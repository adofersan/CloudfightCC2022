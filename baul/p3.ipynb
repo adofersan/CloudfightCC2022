{
 "cells": [
  {
   "cell_type": "code",
   "execution_count": 39,
   "metadata": {},
   "outputs": [],
   "source": [
    "# Matrix and plots\n",
    "import pandas as pd\n",
    "from sklearn.model_selection import RandomizedSearchCV\n",
    "import numpy as np\n",
    "from xgboost import XGBClassifier\n",
    "from sklearn.preprocessing import LabelEncoder\n",
    "from sklearn.preprocessing import OneHotEncoder\n",
    "from sklearn.ensemble import RandomForestClassifier\n",
    "RANDOM_STATE = 2022"
   ]
  },
  {
   "cell_type": "code",
   "execution_count": 52,
   "metadata": {},
   "outputs": [],
   "source": [
    "df = pd.read_csv(\"training_data.csv\", header=None)\n",
    "df=df.iloc[(df.iloc[:,0].str.len() ==30).values,:]"
   ]
  },
  {
   "cell_type": "code",
   "execution_count": 53,
   "metadata": {},
   "outputs": [
    {
     "name": "stdout",
     "output_type": "stream",
     "text": [
      "2     agidfedadgcaaeieccabcdbahgcdeh\n",
      "5     febcfhggcbgaaidbagbbdgbfdcccid\n",
      "7     aidiicbbefghdcdhgccheebeehefcf\n",
      "8     igihfghgdbfaahfbcdegheefdgidii\n",
      "11    eifaidbagbeidhhgggiddcbcdfibhf\n",
      "Name: 0, dtype: object\n",
      "2     agidfedadgcaaeieccabcdbahgcdeh\n",
      "5     febcfhggcbgaaidbagbbdgbfdcccid\n",
      "7     aidiicbbefghdcdhgccheebeehefcf\n",
      "8     igihfghgdbfaahfbcdegheefdgidii\n",
      "11    eifaidbagbeidhhgggiddcbcdfibhf\n",
      "Name: 0, dtype: object\n"
     ]
    }
   ],
   "source": [
    "df = df[(df[1] == 0) | (df[1] ==1)]\n",
    "X_train = df[0]\n",
    "print(X_train.head())\n",
    "y_train = df[1]\n",
    "print(X_train.head())"
   ]
  },
  {
   "cell_type": "code",
   "execution_count": 54,
   "metadata": {},
   "outputs": [
    {
     "name": "stderr",
     "output_type": "stream",
     "text": [
      "C:\\Users\\fabio\\AppData\\Local\\Temp\\ipykernel_18612\\270047815.py:1: FutureWarning: Columnar iteration over characters will be deprecated in future releases.\n",
      "  X_train = pd.DataFrame(list(df.iloc[:,0].str)).T\n"
     ]
    }
   ],
   "source": [
    "X_train = pd.DataFrame(list(df.iloc[:,0].str)).T"
   ]
  },
  {
   "cell_type": "code",
   "execution_count": 55,
   "metadata": {},
   "outputs": [],
   "source": [
    "X_train = X_train.applymap(ord)\n",
    "X_train.columns = [str(i) for i in range(len(X_train.columns))]"
   ]
  },
  {
   "cell_type": "code",
   "execution_count": 56,
   "metadata": {},
   "outputs": [
    {
     "name": "stderr",
     "output_type": "stream",
     "text": [
      "C:\\Users\\fabio\\AppData\\Local\\Temp\\ipykernel_18612\\4228715651.py:2: FutureWarning: Columnar iteration over characters will be deprecated in future releases.\n",
      "  df_test = pd.DataFrame(list(df_test.iloc[:,0].str)).T\n"
     ]
    },
    {
     "name": "stdout",
     "output_type": "stream",
     "text": [
      "     0    1    2    3    4    5    6    7    8    9  ...   20   21   22   23  \\\n",
      "0  105   98   98  102  103  100  101  105  105   98  ...  101  102   98  105   \n",
      "1  105  101   98   99  100  102   97  104  101   98  ...  103   99  102  100   \n",
      "2  100   99  104   98   97   98  105  103   99  101  ...  103   98  105  101   \n",
      "3  104  102   97   97  103  100   98   99  100  105  ...   98   99  105   99   \n",
      "4  101  103  102  103   97   97  101  101  100   98  ...  102   97  104   98   \n",
      "\n",
      "    24   25   26   27   28   29  \n",
      "0  104  104   98  104  103  101  \n",
      "1  103  101  102  104  102   98  \n",
      "2  104  101  100  101  104  103  \n",
      "3   99  103  100  102   99  104  \n",
      "4   99  100   98   98  104   98  \n",
      "\n",
      "[5 rows x 30 columns]\n"
     ]
    }
   ],
   "source": [
    "df_test = pd.read_csv(\"simple_test_data.csv\")\n",
    "df_test = pd.DataFrame(list(df_test.iloc[:,0].str)).T\n",
    "df_test = df_test.applymap(ord)\n",
    "df_test.columns = [str(i) for i in range(len(df_test.columns))]\n",
    "print(df_test.head())"
   ]
  },
  {
   "cell_type": "code",
   "execution_count": 57,
   "metadata": {},
   "outputs": [
    {
     "name": "stdout",
     "output_type": "stream",
     "text": [
      "Fitting 4 folds for each of 5 candidates, totalling 20 fits\n",
      "0.8611275872295522\n"
     ]
    }
   ],
   "source": [
    "xgb_params = {\"n_estimators\": np.arange(10, 210, step=10),\n",
    "              \"eta\": np.arange(0.01, 0.3, step=0.01),\n",
    "              \"subsample\": np.arange(0.5, 1, step=0.05),\n",
    "              \"colsample_bytree\": np.arange(0.5, 1, step=0.05),\n",
    "              \"max_depth\": np.arange(3, 10, step=1),\n",
    "              \"min_child_weight\": np.arange(1, 5, step=0.05),\n",
    "              \"random_state\": [RANDOM_STATE]}\n",
    "\n",
    "xgb_models = RandomizedSearchCV(estimator=XGBClassifier(), n_jobs=2, param_distributions=xgb_params, n_iter=5,  verbose=1, cv=4,\n",
    "                                scoring='accuracy', random_state=RANDOM_STATE)\n",
    "xgb_models.fit(X_train, y_train)\n",
    "print(xgb_models.best_score_)"
   ]
  },
  {
   "cell_type": "code",
   "execution_count": 38,
   "metadata": {},
   "outputs": [],
   "source": [
    "result  =pd.DataFrame(xgb_models.best_estimator_.predict(df_test))\n",
    "result.to_csv(\"p3.txt\", index=False)"
   ]
  }
 ],
 "metadata": {
  "kernelspec": {
   "display_name": "Python 3.10.7 ('venv': venv)",
   "language": "python",
   "name": "python3"
  },
  "language_info": {
   "codemirror_mode": {
    "name": "ipython",
    "version": 3
   },
   "file_extension": ".py",
   "mimetype": "text/x-python",
   "name": "python",
   "nbconvert_exporter": "python",
   "pygments_lexer": "ipython3",
   "version": "3.10.7"
  },
  "orig_nbformat": 4,
  "vscode": {
   "interpreter": {
    "hash": "2f38b9e01a9fe127fd7ffec778475588ec2d96979cda27cfc0ff6ec681b66c38"
   }
  }
 },
 "nbformat": 4,
 "nbformat_minor": 2
}
