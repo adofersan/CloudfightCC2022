{
 "cells": [
  {
   "cell_type": "code",
   "execution_count": null,
   "metadata": {},
   "outputs": [],
   "source": [
    "# Matrix and plots\n",
    "import pandas as pd\n",
    "from sklearn.model_selection import RandomizedSearchCV\n",
    "import numpy as np\n",
    "from xgboost import XGBClassifier\n",
    "from sklearn.preprocessing import LabelEncoder\n",
    "from sklearn.preprocessing import OneHotEncoder\n",
    "from sklearn.ensemble import RandomForestClassifier\n",
    "RANDOM_STATE = 2022"
   ]
  },
  {
   "cell_type": "code",
   "execution_count": null,
   "metadata": {},
   "outputs": [],
   "source": [
    "df = pd.read_csv(\"training_data.csv\", header=None)\n",
    "df=df.iloc[(df.iloc[:,0].str.len() ==30).values,:]"
   ]
  },
  {
   "cell_type": "code",
   "execution_count": null,
   "metadata": {},
   "outputs": [],
   "source": [
    "X_train = df[0]\n",
    "print(X_train.head())\n",
    "y_train = df[1]\n",
    "print(X_train.head())"
   ]
  },
  {
   "cell_type": "code",
   "execution_count": null,
   "metadata": {},
   "outputs": [],
   "source": [
    "X_train = pd.DataFrame(list(df.iloc[:,0].str)).T\n",
    "X_train = X_train.applymap(ord)\n",
    "X_train.columns = [str(i) for i in range(len(X_train.columns))]"
   ]
  },
  {
   "cell_type": "code",
   "execution_count": null,
   "metadata": {},
   "outputs": [],
   "source": [
    "df_test = pd.read_csv(\"full_test_data.csv\")\n",
    "df_test = pd.DataFrame(list(df_test.iloc[:,0].str)).T\n",
    "df_test = df_test.applymap(ord)\n",
    "df_test.columns = [str(i) for i in range(len(df_test.columns))]\n",
    "print(df_test.head())"
   ]
  },
  {
   "cell_type": "code",
   "execution_count": null,
   "metadata": {},
   "outputs": [],
   "source": [
    "xgb_params = {\"n_estimators\": np.arange(10, 210, step=10),\n",
    "              \"eta\": np.arange(0.01, 0.3, step=0.01),\n",
    "              \"subsample\": np.arange(0.5, 1, step=0.05),\n",
    "              \"colsample_bytree\": np.arange(0.5, 1, step=0.05),\n",
    "              \"max_depth\": np.arange(3, 10, step=1),\n",
    "              \"min_child_weight\": np.arange(1, 5, step=0.05),\n",
    "              \"random_state\": [RANDOM_STATE]}\n",
    "\n",
    "xgb_models = RandomizedSearchCV(estimator=XGBClassifier(), n_jobs=2, param_distributions=xgb_params, n_iter=5,  verbose=2, cv=4,\n",
    "                                scoring='accuracy', random_state=RANDOM_STATE)\n",
    "xgb_models.fit(X_train, y_train)\n",
    "print(xgb_models.best_score_)"
   ]
  },
  {
   "cell_type": "code",
   "execution_count": null,
   "metadata": {},
   "outputs": [],
   "source": [
    "result  =pd.DataFrame(xgb_models.best_estimator_.predict(df_test))\n",
    "result.to_csv(\"p6.txt\", index=False)"
   ]
  }
 ],
 "metadata": {
  "kernelspec": {
   "display_name": "Python 3.10.7 ('venv': venv)",
   "language": "python",
   "name": "python3"
  },
  "language_info": {
   "codemirror_mode": {
    "name": "ipython",
    "version": 3
   },
   "file_extension": ".py",
   "mimetype": "text/x-python",
   "name": "python",
   "nbconvert_exporter": "python",
   "pygments_lexer": "ipython3",
   "version": "3.10.7"
  },
  "orig_nbformat": 4,
  "vscode": {
   "interpreter": {
    "hash": "2f38b9e01a9fe127fd7ffec778475588ec2d96979cda27cfc0ff6ec681b66c38"
   }
  }
 },
 "nbformat": 4,
 "nbformat_minor": 2
}
