{
 "cells": [
  {
   "cell_type": "code",
   "execution_count": 1,
   "metadata": {},
   "outputs": [],
   "source": [
    "# Matrix and plots\n",
    "import pandas as pd\n",
    "from sklearn.model_selection import RandomizedSearchCV\n",
    "import numpy as np\n",
    "from xgboost import XGBClassifier\n",
    "from sklearn.preprocessing import LabelEncoder\n",
    "from sklearn.preprocessing import OneHotEncoder\n",
    "from sklearn.ensemble import RandomForestClassifier\n",
    "RANDOM_STATE = 2022"
   ]
  },
  {
   "cell_type": "code",
   "execution_count": 3,
   "metadata": {},
   "outputs": [],
   "source": [
    "df = pd.read_csv(\"training_data.csv\", header=None)\n",
    "df=df.iloc[(df.iloc[:,0].str.len() ==30).values,:]"
   ]
  },
  {
   "cell_type": "code",
   "execution_count": 4,
   "metadata": {},
   "outputs": [
    {
     "name": "stdout",
     "output_type": "stream",
     "text": [
      "0    fgiadcfabdhiecgcefhfefeeciedcb\n",
      "1    bghfcdbaecdfgiadafaieicihdccbe\n",
      "2    agidfedadgcaaeieccabcdbahgcdeh\n",
      "3    gchcdfcghghhcfghbbeicfcdecfgbg\n",
      "4    hgbdghafccgchicaafgdcagcdfcbbe\n",
      "Name: 0, dtype: object\n",
      "0    fgiadcfabdhiecgcefhfefeeciedcb\n",
      "1    bghfcdbaecdfgiadafaieicihdccbe\n",
      "2    agidfedadgcaaeieccabcdbahgcdeh\n",
      "3    gchcdfcghghhcfghbbeicfcdecfgbg\n",
      "4    hgbdghafccgchicaafgdcagcdfcbbe\n",
      "Name: 0, dtype: object\n"
     ]
    }
   ],
   "source": [
    "X_train = df[0]\n",
    "print(X_train.head())\n",
    "y_train = df[1]\n",
    "print(X_train.head())"
   ]
  },
  {
   "cell_type": "code",
   "execution_count": 5,
   "metadata": {},
   "outputs": [
    {
     "name": "stderr",
     "output_type": "stream",
     "text": [
      "C:\\Users\\fabio\\AppData\\Local\\Temp\\ipykernel_8732\\2059530629.py:1: FutureWarning: Columnar iteration over characters will be deprecated in future releases.\n",
      "  X_train = pd.DataFrame(list(df.iloc[:,0].str)).T\n"
     ]
    }
   ],
   "source": [
    "X_train = pd.DataFrame(list(df.iloc[:,0].str)).T\n",
    "X_train = X_train.applymap(ord)\n",
    "X_train.columns = [str(i) for i in range(len(X_train.columns))]"
   ]
  },
  {
   "cell_type": "code",
   "execution_count": 6,
   "metadata": {},
   "outputs": [
    {
     "name": "stderr",
     "output_type": "stream",
     "text": [
      "C:\\Users\\fabio\\AppData\\Local\\Temp\\ipykernel_8732\\775849473.py:2: FutureWarning: Columnar iteration over characters will be deprecated in future releases.\n",
      "  df_test = pd.DataFrame(list(df_test.iloc[:,0].str)).T\n"
     ]
    },
    {
     "name": "stdout",
     "output_type": "stream",
     "text": [
      "     0    1    2    3    4    5    6    7    8    9  ...   20   21   22   23  \\\n",
      "0   97  101  102  105  102  102  104  103   98  102  ...   98   99  104  101   \n",
      "1   97  103   97  105  103  103   98  104   98  105  ...   99  103  101   99   \n",
      "2  101  105  104  102   99  100  105  103   99   97  ...  103  103  103   99   \n",
      "3  101  101  103   97  101   99  100  103  102  104  ...   98   99  103   99   \n",
      "4   99  104   97  105  100   97  105   99   98  104  ...   99  105  104  100   \n",
      "\n",
      "    24   25   26   27   28   29  \n",
      "0  100  102  101  105  105  103  \n",
      "1  104   99  101  102  100  101  \n",
      "2   99  104  105  103  101  102  \n",
      "3   98  102  104  102   98  105  \n",
      "4  105   99  105  104  105  102  \n",
      "\n",
      "[5 rows x 30 columns]\n"
     ]
    }
   ],
   "source": [
    "df_test = pd.read_csv(\"full_test_data.csv\")\n",
    "df_test = pd.DataFrame(list(df_test.iloc[:,0].str)).T\n",
    "df_test = df_test.applymap(ord)\n",
    "df_test.columns = [str(i) for i in range(len(df_test.columns))]\n",
    "print(df_test.head())"
   ]
  },
  {
   "cell_type": "code",
   "execution_count": 7,
   "metadata": {},
   "outputs": [
    {
     "name": "stdout",
     "output_type": "stream",
     "text": [
      "Fitting 4 folds for each of 5 candidates, totalling 20 fits\n",
      "0.753367526785478\n"
     ]
    }
   ],
   "source": [
    "xgb_params = {\"n_estimators\": np.arange(10, 210, step=10),\n",
    "              \"eta\": np.arange(0.01, 0.3, step=0.01),\n",
    "              \"subsample\": np.arange(0.5, 1, step=0.05),\n",
    "              \"colsample_bytree\": np.arange(0.5, 1, step=0.05),\n",
    "              \"max_depth\": np.arange(3, 10, step=1),\n",
    "              \"min_child_weight\": np.arange(1, 5, step=0.05),\n",
    "              \"random_state\": [RANDOM_STATE]}\n",
    "\n",
    "xgb_models = RandomizedSearchCV(estimator=XGBClassifier(), n_jobs=2, param_distributions=xgb_params, n_iter=5,  verbose=2, cv=4,\n",
    "                                scoring='accuracy', random_state=RANDOM_STATE)\n",
    "xgb_models.fit(X_train, y_train)\n",
    "print(xgb_models.best_score_)"
   ]
  },
  {
   "cell_type": "code",
   "execution_count": 8,
   "metadata": {},
   "outputs": [],
   "source": [
    "result  =pd.DataFrame(xgb_models.best_estimator_.predict(df_test))\n",
    "result.to_csv(\"p4.txt\", index=False)"
   ]
  }
 ],
 "metadata": {
  "kernelspec": {
   "display_name": "Python 3.10.7 ('venv': venv)",
   "language": "python",
   "name": "python3"
  },
  "language_info": {
   "codemirror_mode": {
    "name": "ipython",
    "version": 3
   },
   "file_extension": ".py",
   "mimetype": "text/x-python",
   "name": "python",
   "nbconvert_exporter": "python",
   "pygments_lexer": "ipython3",
   "version": "3.10.7"
  },
  "orig_nbformat": 4,
  "vscode": {
   "interpreter": {
    "hash": "2f38b9e01a9fe127fd7ffec778475588ec2d96979cda27cfc0ff6ec681b66c38"
   }
  }
 },
 "nbformat": 4,
 "nbformat_minor": 2
}
