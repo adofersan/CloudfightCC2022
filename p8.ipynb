{
 "cells": [
  {
   "cell_type": "code",
   "execution_count": 3,
   "metadata": {},
   "outputs": [],
   "source": [
    "# Matrix and plots\n",
    "import pandas as pd\n",
    "from sklearn.model_selection import RandomizedSearchCV\n",
    "import numpy as np\n",
    "from lightgbm import LGBMClassifier\n",
    "from sklearn.preprocessing import LabelEncoder\n",
    "from sklearn.preprocessing import OneHotEncoder\n",
    "from sklearn.tree import DecisionTreeClassifier\n",
    "RANDOM_STATE = 2022"
   ]
  },
  {
   "cell_type": "code",
   "execution_count": 4,
   "metadata": {},
   "outputs": [],
   "source": [
    "df = pd.read_csv(\"training_data.csv\", header=None)\n",
    "df=df.iloc[(df.iloc[:,0].str.len() ==30).values,:]"
   ]
  },
  {
   "cell_type": "code",
   "execution_count": 5,
   "metadata": {},
   "outputs": [
    {
     "name": "stdout",
     "output_type": "stream",
     "text": [
      "0    fgiadcfabdhiecgcefhfefeeciedcb\n",
      "1    bghfcdbaecdfgiadafaieicihdccbe\n",
      "2    agidfedadgcaaeieccabcdbahgcdeh\n",
      "3    gchcdfcghghhcfghbbeicfcdecfgbg\n",
      "4    hgbdghafccgchicaafgdcagcdfcbbe\n",
      "Name: 0, dtype: object\n"
     ]
    },
    {
     "name": "stderr",
     "output_type": "stream",
     "text": [
      "C:\\Users\\fabio\\AppData\\Local\\Temp\\ipykernel_10204\\472523211.py:5: FutureWarning: Columnar iteration over characters will be deprecated in future releases.\n",
      "  X_train = pd.DataFrame(list(df.iloc[:,0].str)).T\n"
     ]
    },
    {
     "name": "stdout",
     "output_type": "stream",
     "text": [
      "   0    1    2    3    4    5    6    7    8    9    ...  259  260  261  262  \\\n",
      "0  0.0  0.0  0.0  0.0  0.0  1.0  0.0  0.0  0.0  0.0  ...  0.0  0.0  1.0  0.0   \n",
      "1  0.0  1.0  0.0  0.0  0.0  0.0  0.0  0.0  0.0  0.0  ...  0.0  0.0  0.0  0.0   \n",
      "2  1.0  0.0  0.0  0.0  0.0  0.0  0.0  0.0  0.0  0.0  ...  0.0  0.0  0.0  0.0   \n",
      "3  0.0  0.0  0.0  0.0  0.0  0.0  1.0  0.0  0.0  0.0  ...  0.0  0.0  0.0  0.0   \n",
      "4  0.0  0.0  0.0  0.0  0.0  0.0  0.0  1.0  0.0  0.0  ...  0.0  0.0  0.0  0.0   \n",
      "\n",
      "   263  264  265  266  267  268  \n",
      "0  0.0  0.0  0.0  0.0  0.0  0.0  \n",
      "1  0.0  1.0  0.0  0.0  0.0  0.0  \n",
      "2  0.0  0.0  0.0  0.0  1.0  0.0  \n",
      "3  0.0  0.0  0.0  1.0  0.0  0.0  \n",
      "4  0.0  1.0  0.0  0.0  0.0  0.0  \n",
      "\n",
      "[5 rows x 269 columns]\n"
     ]
    }
   ],
   "source": [
    "X_train = df[0]\n",
    "print(X_train.head())\n",
    "y_train = df[1]\n",
    "\n",
    "X_train = pd.DataFrame(list(df.iloc[:,0].str)).T\n",
    "X_train = X_train.applymap(ord)\n",
    "X_train.columns = [str(i) for i in range(len(X_train.columns))]\n",
    "oh = OneHotEncoder()\n",
    "oh.fit(X_train)\n",
    "X_train = pd.DataFrame(oh.transform(X_train).toarray())\n",
    "print(X_train.head())"
   ]
  },
  {
   "cell_type": "code",
   "execution_count": 6,
   "metadata": {},
   "outputs": [
    {
     "name": "stdout",
     "output_type": "stream",
     "text": [
      "     0    1    2    3    4    5    6    7    8    9  ...  259  260  261  262  \\\n",
      "0  0.0  1.0  0.0  0.0  0.0  0.0  0.0  0.0  0.0  0.0  ...  0.0  0.0  0.0  0.0   \n",
      "1  0.0  1.0  0.0  0.0  0.0  0.0  0.0  0.0  0.0  0.0  ...  1.0  0.0  0.0  0.0   \n",
      "2  0.0  0.0  0.0  0.0  0.0  0.0  1.0  0.0  0.0  0.0  ...  1.0  0.0  1.0  0.0   \n",
      "3  0.0  1.0  0.0  0.0  0.0  0.0  0.0  0.0  0.0  0.0  ...  0.0  1.0  0.0  0.0   \n",
      "4  0.0  0.0  0.0  0.0  1.0  0.0  0.0  0.0  0.0  0.0  ...  0.0  0.0  0.0  0.0   \n",
      "\n",
      "   263  264  265  266  267  268  \n",
      "0  0.0  0.0  0.0  0.0  1.0  0.0  \n",
      "1  0.0  1.0  0.0  0.0  0.0  0.0  \n",
      "2  0.0  0.0  0.0  0.0  0.0  0.0  \n",
      "3  1.0  0.0  0.0  0.0  0.0  0.0  \n",
      "4  0.0  0.0  0.0  0.0  1.0  0.0  \n",
      "\n",
      "[5 rows x 269 columns]\n"
     ]
    },
    {
     "name": "stderr",
     "output_type": "stream",
     "text": [
      "C:\\Users\\fabio\\AppData\\Local\\Temp\\ipykernel_10204\\460139574.py:2: FutureWarning: Columnar iteration over characters will be deprecated in future releases.\n",
      "  df_test = pd.DataFrame(list(df_test.iloc[:,0].str)).T\n",
      "c:\\Users\\fabio\\Documents\\CloudfightCC2022\\venv\\lib\\site-packages\\sklearn\\base.py:493: FutureWarning: The feature names should match those that were passed during fit. Starting version 1.2, an error will be raised.\n",
      "Feature names unseen at fit time:\n",
      "- bdaifegccihccdacbbfiidgigfbbfg\n",
      "Feature names seen at fit time, yet now missing:\n",
      "- 0\n",
      "- 1\n",
      "- 10\n",
      "- 11\n",
      "- 12\n",
      "- ...\n",
      "\n",
      "  warnings.warn(message, FutureWarning)\n"
     ]
    }
   ],
   "source": [
    "df_test = pd.read_csv(\"imbalanced_test_data.csv\")\n",
    "df_test = pd.DataFrame(list(df_test.iloc[:,0].str)).T\n",
    "df_test = df_test.applymap(ord)\n",
    "df_test=pd.DataFrame(oh.transform(df_test).toarray())\n",
    "df_test.columns = [str(i) for i in range(len(df_test.columns))]\n",
    "print(df_test.head())"
   ]
  },
  {
   "cell_type": "code",
   "execution_count": 7,
   "metadata": {},
   "outputs": [
    {
     "name": "stdout",
     "output_type": "stream",
     "text": [
      "Fitting 4 folds for each of 1 candidates, totalling 4 fits\n",
      "0.9651181920363175\n"
     ]
    }
   ],
   "source": [
    "lgbm_params = {\n",
    "               \"random_state\": [RANDOM_STATE]}\n",
    "\n",
    "lgbm_models = RandomizedSearchCV(estimator=LGBMClassifier(), n_jobs=6, param_distributions=lgbm_params, n_iter=1,  verbose=1, cv=4,\n",
    "                                 scoring='accuracy', random_state=RANDOM_STATE)\n",
    "lgbm_models.fit(X_train, y_train)\n",
    "print(lgbm_models.best_score_)"
   ]
  },
  {
   "cell_type": "code",
   "execution_count": 8,
   "metadata": {},
   "outputs": [],
   "source": [
    "from xgboost import XGBClassifier"
   ]
  },
  {
   "cell_type": "code",
   "execution_count": 9,
   "metadata": {},
   "outputs": [
    {
     "name": "stdout",
     "output_type": "stream",
     "text": [
      "Fitting 4 folds for each of 1 candidates, totalling 4 fits\n",
      "0.7478684937432483\n"
     ]
    }
   ],
   "source": [
    "import numpy as np\n",
    "xgb_params = {\n",
    "              \"random_state\": [RANDOM_STATE]}\n",
    "\n",
    "xgb_models = RandomizedSearchCV(estimator=XGBClassifier(), n_jobs=6, param_distributions=xgb_params, n_iter=1,  verbose=1, cv=4,\n",
    "                                scoring='accuracy', random_state=RANDOM_STATE)\n",
    "xgb_models.fit(X_train, y_train)\n",
    "print(xgb_models.best_score_)"
   ]
  },
  {
   "cell_type": "code",
   "execution_count": 37,
   "metadata": {},
   "outputs": [],
   "source": [
    "result  =pd.DataFrame(lgbm_models.best_estimator_.predict(df_test))\n",
    "result.to_csv(\"p8.txt\", index=False)"
   ]
  },
  {
   "cell_type": "code",
   "execution_count": null,
   "metadata": {},
   "outputs": [],
   "source": []
  }
 ],
 "metadata": {
  "kernelspec": {
   "display_name": "Python 3.10.7 ('venv': venv)",
   "language": "python",
   "name": "python3"
  },
  "language_info": {
   "codemirror_mode": {
    "name": "ipython",
    "version": 3
   },
   "file_extension": ".py",
   "mimetype": "text/x-python",
   "name": "python",
   "nbconvert_exporter": "python",
   "pygments_lexer": "ipython3",
   "version": "3.10.7"
  },
  "orig_nbformat": 4,
  "vscode": {
   "interpreter": {
    "hash": "2f38b9e01a9fe127fd7ffec778475588ec2d96979cda27cfc0ff6ec681b66c38"
   }
  }
 },
 "nbformat": 4,
 "nbformat_minor": 2
}
