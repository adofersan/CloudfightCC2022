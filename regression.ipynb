{
 "cells": [
  {
   "cell_type": "markdown",
   "metadata": {},
   "source": [
    "# Cloudfight Coding Contest AI 2022"
   ]
  },
  {
   "cell_type": "code",
   "execution_count": 89,
   "metadata": {},
   "outputs": [],
   "source": [
    "# !pip install pandas\n",
    "# !pip install matplotlib\n",
    "# !pip install scikit-learn\n",
    "# !pip install xgboost\n",
    "# !pip install lightgbm\n"
   ]
  },
  {
   "cell_type": "code",
   "execution_count": 90,
   "metadata": {},
   "outputs": [],
   "source": [
    "# Matrix and plots\n",
    "import pandas as pd\n",
    "import numpy as np\n",
    "import matplotlib.pyplot as plt\n",
    "# Preprocessing\n",
    "from sklearn.impute import SimpleImputer\n",
    "from sklearn.preprocessing import OneHotEncoder\n",
    "from sklearn.model_selection import train_test_split\n",
    "from sklearn.metrics import mean_squared_error\n",
    "# Models\n",
    "from xgboost import XGBRegressor\n",
    "from lightgbm import LGBMRegressor\n",
    "DATA = r\"abalone.data\"\n",
    "SEED = 2022\n"
   ]
  },
  {
   "cell_type": "markdown",
   "metadata": {},
   "source": [
    "## Load data"
   ]
  },
  {
   "cell_type": "code",
   "execution_count": 91,
   "metadata": {},
   "outputs": [
    {
     "name": "stdout",
     "output_type": "stream",
     "text": [
      "   0      1      2      3       4       5       6      7\n",
      "0  M  0.455  0.365  0.095  0.5140  0.2245  0.1010  0.150\n",
      "1  M  0.350  0.265  0.090  0.2255  0.0995  0.0485  0.070\n",
      "2  F  0.530  0.420  0.135  0.6770  0.2565  0.1415  0.210\n",
      "3  M  0.440  0.365  0.125  0.5160  0.2155  0.1140  0.155\n",
      "4  I  0.330  0.255  0.080  0.2050  0.0895  0.0395  0.055\n",
      "0    15\n",
      "1     7\n",
      "2     9\n",
      "3    10\n",
      "4     7\n",
      "Name: 8, dtype: int64\n"
     ]
    }
   ],
   "source": [
    "df = pd.read_csv(DATA, header=None)\n",
    "X = df.iloc[:, 0:-1]  # Get first k-1 cols\n",
    "print(X.head())\n",
    "y = df.iloc[:, -1]  # Get last col\n",
    "print(y.head())\n"
   ]
  },
  {
   "cell_type": "markdown",
   "metadata": {},
   "source": [
    "## Preprocessing"
   ]
  },
  {
   "cell_type": "markdown",
   "metadata": {},
   "source": [
    "### Missing values"
   ]
  },
  {
   "cell_type": "code",
   "execution_count": 92,
   "metadata": {},
   "outputs": [],
   "source": [
    "# Replace numeric missing values by median\n",
    "# X.loc[4177] = [None, None, None, None, None, None, None, None]\n",
    "# numeric_attrs = X.select_dtypes(include=np.number).columns.tolist()\n",
    "# imp = SimpleImputer(missing_values=np.nan, strategy='median')\n",
    "# imp.fit(X.select_dtypes(include=np.number))\n",
    "# X.iloc[:, numeric_attrs] = imp.transform(X.select_dtypes(include=np.number))\n",
    "\n",
    "# Replace categorical missing values by mode\n"
   ]
  },
  {
   "cell_type": "markdown",
   "metadata": {},
   "source": [
    "### Categorical attributes to numerical"
   ]
  },
  {
   "cell_type": "code",
   "execution_count": 93,
   "metadata": {},
   "outputs": [
    {
     "name": "stdout",
     "output_type": "stream",
     "text": [
      "          0      1      2       3       4       5       6    7    8    9   10\n",
      "0     0.455  0.365  0.095  0.5140  0.2245  0.1010  0.1500  0.0  0.0  1.0  0.0\n",
      "1     0.350  0.265  0.090  0.2255  0.0995  0.0485  0.0700  0.0  0.0  1.0  0.0\n",
      "2     0.530  0.420  0.135  0.6770  0.2565  0.1415  0.2100  1.0  0.0  0.0  0.0\n",
      "3     0.440  0.365  0.125  0.5160  0.2155  0.1140  0.1550  0.0  0.0  1.0  0.0\n",
      "4     0.330  0.255  0.080  0.2050  0.0895  0.0395  0.0550  0.0  1.0  0.0  0.0\n",
      "...     ...    ...    ...     ...     ...     ...     ...  ...  ...  ...  ...\n",
      "4173  0.590  0.440  0.135  0.9660  0.4390  0.2145  0.2605  0.0  0.0  1.0  0.0\n",
      "4174  0.600  0.475  0.205  1.1760  0.5255  0.2875  0.3080  0.0  0.0  1.0  0.0\n",
      "4175  0.625  0.485  0.150  1.0945  0.5310  0.2610  0.2960  1.0  0.0  0.0  0.0\n",
      "4176  0.710  0.555  0.195  1.9485  0.9455  0.3765  0.4950  0.0  0.0  1.0  0.0\n",
      "4177  0.545  0.425  0.140  0.7995  0.3360  0.1710  0.2340  0.0  0.0  0.0  1.0\n",
      "\n",
      "[4178 rows x 11 columns]\n"
     ]
    }
   ],
   "source": [
    "enc = OneHotEncoder()\n",
    "CAT_COLS = [0]\n",
    "cat_cols_encoded = pd.DataFrame(enc.fit_transform(X[CAT_COLS]).toarray())\n",
    "X = X.drop(columns=CAT_COLS)\n",
    "X = pd.concat([X, cat_cols_encoded], axis=1)\n",
    "X.columns = [str(i) for i in range(len(X.columns))]\n",
    "print(X)\n"
   ]
  },
  {
   "cell_type": "code",
   "execution_count": 94,
   "metadata": {},
   "outputs": [
    {
     "ename": "ValueError",
     "evalue": "Found input variables with inconsistent numbers of samples: [4178, 4177]",
     "output_type": "error",
     "traceback": [
      "\u001b[1;31m---------------------------------------------------------------------------\u001b[0m",
      "\u001b[1;31mValueError\u001b[0m                                Traceback (most recent call last)",
      "Cell \u001b[1;32mIn [94], line 1\u001b[0m\n\u001b[1;32m----> 1\u001b[0m X_train, X_test, y_train, y_test \u001b[39m=\u001b[39m train_test_split(X, y, test_size\u001b[39m=\u001b[39;49m\u001b[39m0.33\u001b[39;49m, random_state\u001b[39m=\u001b[39;49mSEED)\n",
      "File \u001b[1;32md:\\Academic\\Concursos\\CloudfightCC2022\\venv\\lib\\site-packages\\sklearn\\model_selection\\_split.py:2445\u001b[0m, in \u001b[0;36mtrain_test_split\u001b[1;34m(test_size, train_size, random_state, shuffle, stratify, *arrays)\u001b[0m\n\u001b[0;32m   2442\u001b[0m \u001b[39mif\u001b[39;00m n_arrays \u001b[39m==\u001b[39m \u001b[39m0\u001b[39m:\n\u001b[0;32m   2443\u001b[0m     \u001b[39mraise\u001b[39;00m \u001b[39mValueError\u001b[39;00m(\u001b[39m\"\u001b[39m\u001b[39mAt least one array required as input\u001b[39m\u001b[39m\"\u001b[39m)\n\u001b[1;32m-> 2445\u001b[0m arrays \u001b[39m=\u001b[39m indexable(\u001b[39m*\u001b[39;49marrays)\n\u001b[0;32m   2447\u001b[0m n_samples \u001b[39m=\u001b[39m _num_samples(arrays[\u001b[39m0\u001b[39m])\n\u001b[0;32m   2448\u001b[0m n_train, n_test \u001b[39m=\u001b[39m _validate_shuffle_split(\n\u001b[0;32m   2449\u001b[0m     n_samples, test_size, train_size, default_test_size\u001b[39m=\u001b[39m\u001b[39m0.25\u001b[39m\n\u001b[0;32m   2450\u001b[0m )\n",
      "File \u001b[1;32md:\\Academic\\Concursos\\CloudfightCC2022\\venv\\lib\\site-packages\\sklearn\\utils\\validation.py:433\u001b[0m, in \u001b[0;36mindexable\u001b[1;34m(*iterables)\u001b[0m\n\u001b[0;32m    414\u001b[0m \u001b[39m\"\"\"Make arrays indexable for cross-validation.\u001b[39;00m\n\u001b[0;32m    415\u001b[0m \n\u001b[0;32m    416\u001b[0m \u001b[39mChecks consistent length, passes through None, and ensures that everything\u001b[39;00m\n\u001b[1;32m   (...)\u001b[0m\n\u001b[0;32m    429\u001b[0m \u001b[39m    sparse matrix, or dataframe) or `None`.\u001b[39;00m\n\u001b[0;32m    430\u001b[0m \u001b[39m\"\"\"\u001b[39;00m\n\u001b[0;32m    432\u001b[0m result \u001b[39m=\u001b[39m [_make_indexable(X) \u001b[39mfor\u001b[39;00m X \u001b[39min\u001b[39;00m iterables]\n\u001b[1;32m--> 433\u001b[0m check_consistent_length(\u001b[39m*\u001b[39;49mresult)\n\u001b[0;32m    434\u001b[0m \u001b[39mreturn\u001b[39;00m result\n",
      "File \u001b[1;32md:\\Academic\\Concursos\\CloudfightCC2022\\venv\\lib\\site-packages\\sklearn\\utils\\validation.py:387\u001b[0m, in \u001b[0;36mcheck_consistent_length\u001b[1;34m(*arrays)\u001b[0m\n\u001b[0;32m    385\u001b[0m uniques \u001b[39m=\u001b[39m np\u001b[39m.\u001b[39munique(lengths)\n\u001b[0;32m    386\u001b[0m \u001b[39mif\u001b[39;00m \u001b[39mlen\u001b[39m(uniques) \u001b[39m>\u001b[39m \u001b[39m1\u001b[39m:\n\u001b[1;32m--> 387\u001b[0m     \u001b[39mraise\u001b[39;00m \u001b[39mValueError\u001b[39;00m(\n\u001b[0;32m    388\u001b[0m         \u001b[39m\"\u001b[39m\u001b[39mFound input variables with inconsistent numbers of samples: \u001b[39m\u001b[39m%r\u001b[39;00m\u001b[39m\"\u001b[39m\n\u001b[0;32m    389\u001b[0m         \u001b[39m%\u001b[39m [\u001b[39mint\u001b[39m(l) \u001b[39mfor\u001b[39;00m l \u001b[39min\u001b[39;00m lengths]\n\u001b[0;32m    390\u001b[0m     )\n",
      "\u001b[1;31mValueError\u001b[0m: Found input variables with inconsistent numbers of samples: [4178, 4177]"
     ]
    }
   ],
   "source": [
    "X_train, X_test, y_train, y_test = train_test_split(X, y, test_size=0.33, random_state=SEED)"
   ]
  },
  {
   "cell_type": "markdown",
   "metadata": {},
   "source": [
    "## Model training"
   ]
  },
  {
   "cell_type": "code",
   "execution_count": null,
   "metadata": {},
   "outputs": [
    {
     "data": {
      "text/plain": [
       "6.118201595358956"
      ]
     },
     "execution_count": 87,
     "metadata": {},
     "output_type": "execute_result"
    }
   ],
   "source": [
    "# XGBoost\n",
    "xgb_params = {\"random_state\": SEED}\n",
    "xgb_model = XGBRegressor(**xgb_params)\n",
    "xgb_model.fit(X_train, y_train)\n",
    "xgb_pred = xgb_model.predict(X_test)\n",
    "mean_squared_error(y_test, [round(i) for i in xgb_pred])\n"
   ]
  }
 ],
 "metadata": {
  "kernelspec": {
   "display_name": "Python 3.10.7 ('venv': venv)",
   "language": "python",
   "name": "python3"
  },
  "language_info": {
   "codemirror_mode": {
    "name": "ipython",
    "version": 3
   },
   "file_extension": ".py",
   "mimetype": "text/x-python",
   "name": "python",
   "nbconvert_exporter": "python",
   "pygments_lexer": "ipython3",
   "version": "3.10.7"
  },
  "orig_nbformat": 4,
  "vscode": {
   "interpreter": {
    "hash": "e957659887d768ade60a9d6facc275d27c264b5bb0dcb8a0edc1a78494747767"
   }
  }
 },
 "nbformat": 4,
 "nbformat_minor": 2
}
