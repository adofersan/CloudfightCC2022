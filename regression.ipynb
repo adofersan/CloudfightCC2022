{
 "cells": [
  {
   "cell_type": "markdown",
   "metadata": {},
   "source": [
    "# Cloudfight Coding Contest AI 2022"
   ]
  },
  {
   "cell_type": "code",
   "execution_count": 112,
   "metadata": {},
   "outputs": [],
   "source": [
    "# !pip install pandas\n",
    "# !pip install matplotlib\n",
    "# !pip install scikit-learn\n",
    "# !pip install xgboost\n",
    "# !pip install lightgbm\n"
   ]
  },
  {
   "cell_type": "code",
   "execution_count": 113,
   "metadata": {},
   "outputs": [],
   "source": [
    "# Matrix and plots\n",
    "import pandas as pd\n",
    "import numpy as np\n",
    "import matplotlib.pyplot as plt\n",
    "# Preprocessing\n",
    "from sklearn.impute import SimpleImputer\n",
    "from sklearn.preprocessing import OneHotEncoder, StandardScaler, FunctionTransformer, LabelBinarizer\n",
    "from sklearn.model_selection import train_test_split\n",
    "from sklearn.metrics import mean_squared_error\n",
    "# Models\n",
    "from xgboost import XGBRegressor\n",
    "from lightgbm import LGBMRegressor\n",
    "from sklearn.ensemble import RandomForestRegressor\n",
    "from sklearn.svm import SVR\n",
    "DATA = r\"abalone.data\"\n",
    "SEED = 2022\n"
   ]
  },
  {
   "cell_type": "markdown",
   "metadata": {},
   "source": [
    "## Load data"
   ]
  },
  {
   "cell_type": "code",
   "execution_count": 114,
   "metadata": {},
   "outputs": [
    {
     "name": "stdout",
     "output_type": "stream",
     "text": [
      "   0      1      2      3       4       5       6      7\n",
      "0  M  0.455  0.365  0.095  0.5140  0.2245  0.1010  0.150\n",
      "1  M  0.350  0.265  0.090  0.2255  0.0995  0.0485  0.070\n",
      "2  F  0.530  0.420  0.135  0.6770  0.2565  0.1415  0.210\n",
      "3  M  0.440  0.365  0.125  0.5160  0.2155  0.1140  0.155\n",
      "4  I  0.330  0.255  0.080  0.2050  0.0895  0.0395  0.055\n",
      "0    15\n",
      "1     7\n",
      "2     9\n",
      "3    10\n",
      "4     7\n",
      "Name: 8, dtype: int64\n"
     ]
    }
   ],
   "source": [
    "df = pd.read_csv(DATA, header=None)\n",
    "X = df.iloc[:, 0:-1]  # Get first k-1 cols\n",
    "print(X.head())\n",
    "y = df.iloc[:, -1]  # Get last col\n",
    "print(y.head())\n"
   ]
  },
  {
   "cell_type": "markdown",
   "metadata": {},
   "source": [
    "## Preprocessing"
   ]
  },
  {
   "cell_type": "markdown",
   "metadata": {},
   "source": [
    "### Missing values"
   ]
  },
  {
   "cell_type": "code",
   "execution_count": 115,
   "metadata": {},
   "outputs": [],
   "source": [
    "# Replace numeric missing values by median\n",
    "# X.loc[4177] = [None, None, None, None, None, None, None, None]\n",
    "# numeric_attrs = X.select_dtypes(include=np.number).columns.tolist()\n",
    "# imp = SimpleImputer(missing_values=np.nan, strategy='median')\n",
    "# imp.fit(X.select_dtypes(include=np.number))\n",
    "# X.iloc[:, numeric_attrs] = imp.transform(X.select_dtypes(include=np.number))\n",
    "\n",
    "# Replace categorical missing values by mode\n"
   ]
  },
  {
   "cell_type": "markdown",
   "metadata": {},
   "source": [
    "### Categorical attributes to numerical"
   ]
  },
  {
   "cell_type": "code",
   "execution_count": 117,
   "metadata": {},
   "outputs": [
    {
     "name": "stdout",
     "output_type": "stream",
     "text": [
      "          1      2      3       4       5       6       7  OH_0  OH_1  OH_2\n",
      "0     0.455  0.365  0.095  0.5140  0.2245  0.1010  0.1500   0.0   0.0   1.0\n",
      "1     0.350  0.265  0.090  0.2255  0.0995  0.0485  0.0700   0.0   0.0   1.0\n",
      "2     0.530  0.420  0.135  0.6770  0.2565  0.1415  0.2100   1.0   0.0   0.0\n",
      "3     0.440  0.365  0.125  0.5160  0.2155  0.1140  0.1550   0.0   0.0   1.0\n",
      "4     0.330  0.255  0.080  0.2050  0.0895  0.0395  0.0550   0.0   1.0   0.0\n",
      "...     ...    ...    ...     ...     ...     ...     ...   ...   ...   ...\n",
      "4172  0.565  0.450  0.165  0.8870  0.3700  0.2390  0.2490   1.0   0.0   0.0\n",
      "4173  0.590  0.440  0.135  0.9660  0.4390  0.2145  0.2605   0.0   0.0   1.0\n",
      "4174  0.600  0.475  0.205  1.1760  0.5255  0.2875  0.3080   0.0   0.0   1.0\n",
      "4175  0.625  0.485  0.150  1.0945  0.5310  0.2610  0.2960   1.0   0.0   0.0\n",
      "4176  0.710  0.555  0.195  1.9485  0.9455  0.3765  0.4950   0.0   0.0   1.0\n",
      "\n",
      "[4177 rows x 10 columns]\n"
     ]
    }
   ],
   "source": [
    "enc = OneHotEncoder()\n",
    "CAT_COLS = [0]\n",
    "cat_cols_encoded = pd.DataFrame(enc.fit_transform(X[CAT_COLS]).toarray())\n",
    "cat_cols_encoded.columns = [\"OH_\"+str(i) for i in range(len(cat_cols_encoded.columns))]\n",
    "X = X.drop(columns=CAT_COLS)\n",
    "X = pd.concat([X, cat_cols_encoded], axis=1)\n",
    "print(X)\n"
   ]
  },
  {
   "cell_type": "markdown",
   "metadata": {},
   "source": [
    "Multiple class"
   ]
  },
  {
   "cell_type": "code",
   "execution_count": 54,
   "metadata": {},
   "outputs": [],
   "source": [
    "y = LabelBinarizer().fit_transform(y)"
   ]
  },
  {
   "cell_type": "code",
   "execution_count": 118,
   "metadata": {},
   "outputs": [],
   "source": [
    "X_train, X_test, y_train, y_test = train_test_split(X, y, test_size=0.33, random_state=SEED)"
   ]
  },
  {
   "cell_type": "markdown",
   "metadata": {},
   "source": [
    "Normalize"
   ]
  },
  {
   "cell_type": "code",
   "execution_count": 31,
   "metadata": {},
   "outputs": [
    {
     "data": {
      "text/plain": [
       "array([1.])"
      ]
     },
     "execution_count": 31,
     "metadata": {},
     "output_type": "execute_result"
    }
   ],
   "source": [
    "NORMALIZE_COLS = [1]\n",
    "\n",
    "X = StandardScaler().fit_transform(X[NORMALIZE_COLS])\n",
    "\n",
    "#X.mean(axis=0)\n",
    "#X.std(axis=0)"
   ]
  },
  {
   "cell_type": "markdown",
   "metadata": {},
   "source": [
    "Add variables"
   ]
  },
  {
   "cell_type": "code",
   "execution_count": 51,
   "metadata": {},
   "outputs": [
    {
     "data": {
      "text/html": [
       "<div>\n",
       "<style scoped>\n",
       "    .dataframe tbody tr th:only-of-type {\n",
       "        vertical-align: middle;\n",
       "    }\n",
       "\n",
       "    .dataframe tbody tr th {\n",
       "        vertical-align: top;\n",
       "    }\n",
       "\n",
       "    .dataframe thead th {\n",
       "        text-align: right;\n",
       "    }\n",
       "</style>\n",
       "<table border=\"1\" class=\"dataframe\">\n",
       "  <thead>\n",
       "    <tr style=\"text-align: right;\">\n",
       "      <th></th>\n",
       "      <th>0</th>\n",
       "      <th>1</th>\n",
       "      <th>2</th>\n",
       "      <th>3</th>\n",
       "      <th>4</th>\n",
       "      <th>5</th>\n",
       "      <th>6</th>\n",
       "      <th>7</th>\n",
       "      <th>1</th>\n",
       "      <th>2</th>\n",
       "      <th>1</th>\n",
       "      <th>2</th>\n",
       "      <th>1</th>\n",
       "      <th>2</th>\n",
       "    </tr>\n",
       "  </thead>\n",
       "  <tbody>\n",
       "    <tr>\n",
       "      <th>0</th>\n",
       "      <td>M</td>\n",
       "      <td>0.455</td>\n",
       "      <td>0.365</td>\n",
       "      <td>0.095</td>\n",
       "      <td>0.5140</td>\n",
       "      <td>0.2245</td>\n",
       "      <td>0.1010</td>\n",
       "      <td>0.1500</td>\n",
       "      <td>0.455</td>\n",
       "      <td>0.365</td>\n",
       "      <td>0.207025</td>\n",
       "      <td>0.133225</td>\n",
       "      <td>0.094196</td>\n",
       "      <td>0.048627</td>\n",
       "    </tr>\n",
       "    <tr>\n",
       "      <th>1</th>\n",
       "      <td>M</td>\n",
       "      <td>0.350</td>\n",
       "      <td>0.265</td>\n",
       "      <td>0.090</td>\n",
       "      <td>0.2255</td>\n",
       "      <td>0.0995</td>\n",
       "      <td>0.0485</td>\n",
       "      <td>0.0700</td>\n",
       "      <td>0.350</td>\n",
       "      <td>0.265</td>\n",
       "      <td>0.122500</td>\n",
       "      <td>0.070225</td>\n",
       "      <td>0.042875</td>\n",
       "      <td>0.018610</td>\n",
       "    </tr>\n",
       "    <tr>\n",
       "      <th>2</th>\n",
       "      <td>F</td>\n",
       "      <td>0.530</td>\n",
       "      <td>0.420</td>\n",
       "      <td>0.135</td>\n",
       "      <td>0.6770</td>\n",
       "      <td>0.2565</td>\n",
       "      <td>0.1415</td>\n",
       "      <td>0.2100</td>\n",
       "      <td>0.530</td>\n",
       "      <td>0.420</td>\n",
       "      <td>0.280900</td>\n",
       "      <td>0.176400</td>\n",
       "      <td>0.148877</td>\n",
       "      <td>0.074088</td>\n",
       "    </tr>\n",
       "    <tr>\n",
       "      <th>3</th>\n",
       "      <td>M</td>\n",
       "      <td>0.440</td>\n",
       "      <td>0.365</td>\n",
       "      <td>0.125</td>\n",
       "      <td>0.5160</td>\n",
       "      <td>0.2155</td>\n",
       "      <td>0.1140</td>\n",
       "      <td>0.1550</td>\n",
       "      <td>0.440</td>\n",
       "      <td>0.365</td>\n",
       "      <td>0.193600</td>\n",
       "      <td>0.133225</td>\n",
       "      <td>0.085184</td>\n",
       "      <td>0.048627</td>\n",
       "    </tr>\n",
       "    <tr>\n",
       "      <th>4</th>\n",
       "      <td>I</td>\n",
       "      <td>0.330</td>\n",
       "      <td>0.255</td>\n",
       "      <td>0.080</td>\n",
       "      <td>0.2050</td>\n",
       "      <td>0.0895</td>\n",
       "      <td>0.0395</td>\n",
       "      <td>0.0550</td>\n",
       "      <td>0.330</td>\n",
       "      <td>0.255</td>\n",
       "      <td>0.108900</td>\n",
       "      <td>0.065025</td>\n",
       "      <td>0.035937</td>\n",
       "      <td>0.016581</td>\n",
       "    </tr>\n",
       "    <tr>\n",
       "      <th>...</th>\n",
       "      <td>...</td>\n",
       "      <td>...</td>\n",
       "      <td>...</td>\n",
       "      <td>...</td>\n",
       "      <td>...</td>\n",
       "      <td>...</td>\n",
       "      <td>...</td>\n",
       "      <td>...</td>\n",
       "      <td>...</td>\n",
       "      <td>...</td>\n",
       "      <td>...</td>\n",
       "      <td>...</td>\n",
       "      <td>...</td>\n",
       "      <td>...</td>\n",
       "    </tr>\n",
       "    <tr>\n",
       "      <th>4172</th>\n",
       "      <td>F</td>\n",
       "      <td>0.565</td>\n",
       "      <td>0.450</td>\n",
       "      <td>0.165</td>\n",
       "      <td>0.8870</td>\n",
       "      <td>0.3700</td>\n",
       "      <td>0.2390</td>\n",
       "      <td>0.2490</td>\n",
       "      <td>0.565</td>\n",
       "      <td>0.450</td>\n",
       "      <td>0.319225</td>\n",
       "      <td>0.202500</td>\n",
       "      <td>0.180362</td>\n",
       "      <td>0.091125</td>\n",
       "    </tr>\n",
       "    <tr>\n",
       "      <th>4173</th>\n",
       "      <td>M</td>\n",
       "      <td>0.590</td>\n",
       "      <td>0.440</td>\n",
       "      <td>0.135</td>\n",
       "      <td>0.9660</td>\n",
       "      <td>0.4390</td>\n",
       "      <td>0.2145</td>\n",
       "      <td>0.2605</td>\n",
       "      <td>0.590</td>\n",
       "      <td>0.440</td>\n",
       "      <td>0.348100</td>\n",
       "      <td>0.193600</td>\n",
       "      <td>0.205379</td>\n",
       "      <td>0.085184</td>\n",
       "    </tr>\n",
       "    <tr>\n",
       "      <th>4174</th>\n",
       "      <td>M</td>\n",
       "      <td>0.600</td>\n",
       "      <td>0.475</td>\n",
       "      <td>0.205</td>\n",
       "      <td>1.1760</td>\n",
       "      <td>0.5255</td>\n",
       "      <td>0.2875</td>\n",
       "      <td>0.3080</td>\n",
       "      <td>0.600</td>\n",
       "      <td>0.475</td>\n",
       "      <td>0.360000</td>\n",
       "      <td>0.225625</td>\n",
       "      <td>0.216000</td>\n",
       "      <td>0.107172</td>\n",
       "    </tr>\n",
       "    <tr>\n",
       "      <th>4175</th>\n",
       "      <td>F</td>\n",
       "      <td>0.625</td>\n",
       "      <td>0.485</td>\n",
       "      <td>0.150</td>\n",
       "      <td>1.0945</td>\n",
       "      <td>0.5310</td>\n",
       "      <td>0.2610</td>\n",
       "      <td>0.2960</td>\n",
       "      <td>0.625</td>\n",
       "      <td>0.485</td>\n",
       "      <td>0.390625</td>\n",
       "      <td>0.235225</td>\n",
       "      <td>0.244141</td>\n",
       "      <td>0.114084</td>\n",
       "    </tr>\n",
       "    <tr>\n",
       "      <th>4176</th>\n",
       "      <td>M</td>\n",
       "      <td>0.710</td>\n",
       "      <td>0.555</td>\n",
       "      <td>0.195</td>\n",
       "      <td>1.9485</td>\n",
       "      <td>0.9455</td>\n",
       "      <td>0.3765</td>\n",
       "      <td>0.4950</td>\n",
       "      <td>0.710</td>\n",
       "      <td>0.555</td>\n",
       "      <td>0.504100</td>\n",
       "      <td>0.308025</td>\n",
       "      <td>0.357911</td>\n",
       "      <td>0.170954</td>\n",
       "    </tr>\n",
       "  </tbody>\n",
       "</table>\n",
       "<p>4177 rows × 14 columns</p>\n",
       "</div>"
      ],
      "text/plain": [
       "      0      1      2      3       4       5       6       7      1      2  \\\n",
       "0     M  0.455  0.365  0.095  0.5140  0.2245  0.1010  0.1500  0.455  0.365   \n",
       "1     M  0.350  0.265  0.090  0.2255  0.0995  0.0485  0.0700  0.350  0.265   \n",
       "2     F  0.530  0.420  0.135  0.6770  0.2565  0.1415  0.2100  0.530  0.420   \n",
       "3     M  0.440  0.365  0.125  0.5160  0.2155  0.1140  0.1550  0.440  0.365   \n",
       "4     I  0.330  0.255  0.080  0.2050  0.0895  0.0395  0.0550  0.330  0.255   \n",
       "...  ..    ...    ...    ...     ...     ...     ...     ...    ...    ...   \n",
       "4172  F  0.565  0.450  0.165  0.8870  0.3700  0.2390  0.2490  0.565  0.450   \n",
       "4173  M  0.590  0.440  0.135  0.9660  0.4390  0.2145  0.2605  0.590  0.440   \n",
       "4174  M  0.600  0.475  0.205  1.1760  0.5255  0.2875  0.3080  0.600  0.475   \n",
       "4175  F  0.625  0.485  0.150  1.0945  0.5310  0.2610  0.2960  0.625  0.485   \n",
       "4176  M  0.710  0.555  0.195  1.9485  0.9455  0.3765  0.4950  0.710  0.555   \n",
       "\n",
       "             1         2         1         2  \n",
       "0     0.207025  0.133225  0.094196  0.048627  \n",
       "1     0.122500  0.070225  0.042875  0.018610  \n",
       "2     0.280900  0.176400  0.148877  0.074088  \n",
       "3     0.193600  0.133225  0.085184  0.048627  \n",
       "4     0.108900  0.065025  0.035937  0.016581  \n",
       "...        ...       ...       ...       ...  \n",
       "4172  0.319225  0.202500  0.180362  0.091125  \n",
       "4173  0.348100  0.193600  0.205379  0.085184  \n",
       "4174  0.360000  0.225625  0.216000  0.107172  \n",
       "4175  0.390625  0.235225  0.244141  0.114084  \n",
       "4176  0.504100  0.308025  0.357911  0.170954  \n",
       "\n",
       "[4177 rows x 14 columns]"
      ]
     },
     "execution_count": 51,
     "metadata": {},
     "output_type": "execute_result"
    }
   ],
   "source": [
    "VARIABLES = [1,2]\n",
    "MOMENTS = [1,2,3]\n",
    "\n",
    "X_moments = [X[VARIABLES].pow(m) for m in MOMENTS]\n",
    "\n",
    "X = pd.concat([X] + X_moments, axis=1)"
   ]
  },
  {
   "cell_type": "markdown",
   "metadata": {},
   "source": [
    "## Model training"
   ]
  },
  {
   "cell_type": "markdown",
   "metadata": {},
   "source": [
    "### XGBoost"
   ]
  },
  {
   "cell_type": "code",
   "execution_count": 120,
   "metadata": {},
   "outputs": [
    {
     "data": {
      "text/plain": [
       "6.132771009659706"
      ]
     },
     "execution_count": 120,
     "metadata": {},
     "output_type": "execute_result"
    }
   ],
   "source": [
    "# XGBoost\n",
    "xgb_params = {\"random_state\": SEED}\n",
    "xgb_model = XGBRegressor(**xgb_params)\n",
    "xgb_model.fit(X_train, y_train)\n",
    "xgb_pred = xgb_model.predict(X_test)\n",
    "mean_squared_error(y_test, xgb_pred)"
   ]
  },
  {
   "cell_type": "markdown",
   "metadata": {},
   "source": [
    "### LGBM"
   ]
  },
  {
   "cell_type": "code",
   "execution_count": 121,
   "metadata": {},
   "outputs": [
    {
     "data": {
      "text/plain": [
       "6.132771009659706"
      ]
     },
     "execution_count": 121,
     "metadata": {},
     "output_type": "execute_result"
    }
   ],
   "source": [
    "lgbm_params = {\"random_state\": SEED}\n",
    "lgbm_model = LGBMRegressor(**xgb_params)\n",
    "lgbm_model.fit(X_train, y_train)\n",
    "lgbm_pred = xgb_model.predict(X_test)\n",
    "mean_squared_error(y_test, xgb_pred)"
   ]
  },
  {
   "cell_type": "markdown",
   "metadata": {},
   "source": [
    "### Random Forest"
   ]
  },
  {
   "cell_type": "markdown",
   "metadata": {},
   "source": []
  }
 ],
 "metadata": {
  "kernelspec": {
   "display_name": "Python 3.10.7 ('venv': venv)",
   "language": "python",
   "name": "python3"
  },
  "language_info": {
   "codemirror_mode": {
    "name": "ipython",
    "version": 3
   },
   "file_extension": ".py",
   "mimetype": "text/x-python",
   "name": "python",
   "nbconvert_exporter": "python",
   "pygments_lexer": "ipython3",
   "version": "3.10.7"
  },
  "orig_nbformat": 4,
  "vscode": {
   "interpreter": {
    "hash": "e957659887d768ade60a9d6facc275d27c264b5bb0dcb8a0edc1a78494747767"
   }
  }
 },
 "nbformat": 4,
 "nbformat_minor": 2
}
